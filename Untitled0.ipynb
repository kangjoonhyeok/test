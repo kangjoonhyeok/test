{
  "nbformat": 4,
  "nbformat_minor": 0,
  "metadata": {
    "colab": {
      "provenance": [],
      "gpuType": "T4",
      "authorship_tag": "ABX9TyNT0kFMKqfC9OsWP4RRVguK",
      "include_colab_link": true
    },
    "kernelspec": {
      "name": "python3",
      "display_name": "Python 3"
    },
    "language_info": {
      "name": "python"
    },
    "accelerator": "GPU"
  },
  "cells": [
    {
      "cell_type": "markdown",
      "metadata": {
        "id": "view-in-github",
        "colab_type": "text"
      },
      "source": [
        "<a href=\"https://colab.research.google.com/github/kangjoonhyeok/test/blob/main/Untitled0.ipynb\" target=\"_parent\"><img src=\"https://colab.research.google.com/assets/colab-badge.svg\" alt=\"Open In Colab\"/></a>"
      ]
    },
    {
      "cell_type": "code",
      "execution_count": 1,
      "metadata": {
        "colab": {
          "base_uri": "https://localhost:8080/"
        },
        "id": "SzxzlefSpDBl",
        "outputId": "3dbd3f20-c745-4723-87c5-09fea7d2526a"
      },
      "outputs": [
        {
          "output_type": "stream",
          "name": "stdout",
          "text": [
            "Collecting roboflow\n",
            "  Downloading roboflow-1.1.33-py3-none-any.whl (75 kB)\n",
            "\u001b[2K     \u001b[90m━━━━━━━━━━━━━━━━━━━━━━━━━━━━━━━━━━━━━━━━\u001b[0m \u001b[32m75.6/75.6 kB\u001b[0m \u001b[31m1.2 MB/s\u001b[0m eta \u001b[36m0:00:00\u001b[0m\n",
            "\u001b[?25hRequirement already satisfied: certifi in /usr/local/lib/python3.10/dist-packages (from roboflow) (2024.6.2)\n",
            "Collecting chardet==4.0.0 (from roboflow)\n",
            "  Downloading chardet-4.0.0-py2.py3-none-any.whl (178 kB)\n",
            "\u001b[2K     \u001b[90m━━━━━━━━━━━━━━━━━━━━━━━━━━━━━━━━━━━━━━━━\u001b[0m \u001b[32m178.7/178.7 kB\u001b[0m \u001b[31m4.8 MB/s\u001b[0m eta \u001b[36m0:00:00\u001b[0m\n",
            "\u001b[?25hRequirement already satisfied: idna==3.7 in /usr/local/lib/python3.10/dist-packages (from roboflow) (3.7)\n",
            "Requirement already satisfied: cycler in /usr/local/lib/python3.10/dist-packages (from roboflow) (0.12.1)\n",
            "Requirement already satisfied: kiwisolver>=1.3.1 in /usr/local/lib/python3.10/dist-packages (from roboflow) (1.4.5)\n",
            "Requirement already satisfied: matplotlib in /usr/local/lib/python3.10/dist-packages (from roboflow) (3.7.1)\n",
            "Requirement already satisfied: numpy>=1.18.5 in /usr/local/lib/python3.10/dist-packages (from roboflow) (1.25.2)\n",
            "Requirement already satisfied: opencv-python-headless==4.10.0.84 in /usr/local/lib/python3.10/dist-packages (from roboflow) (4.10.0.84)\n",
            "Requirement already satisfied: Pillow>=7.1.2 in /usr/local/lib/python3.10/dist-packages (from roboflow) (9.4.0)\n",
            "Requirement already satisfied: python-dateutil in /usr/local/lib/python3.10/dist-packages (from roboflow) (2.8.2)\n",
            "Collecting python-dotenv (from roboflow)\n",
            "  Downloading python_dotenv-1.0.1-py3-none-any.whl (19 kB)\n",
            "Requirement already satisfied: requests in /usr/local/lib/python3.10/dist-packages (from roboflow) (2.31.0)\n",
            "Requirement already satisfied: six in /usr/local/lib/python3.10/dist-packages (from roboflow) (1.16.0)\n",
            "Requirement already satisfied: urllib3>=1.26.6 in /usr/local/lib/python3.10/dist-packages (from roboflow) (2.0.7)\n",
            "Requirement already satisfied: tqdm>=4.41.0 in /usr/local/lib/python3.10/dist-packages (from roboflow) (4.66.4)\n",
            "Requirement already satisfied: PyYAML>=5.3.1 in /usr/local/lib/python3.10/dist-packages (from roboflow) (6.0.1)\n",
            "Collecting requests-toolbelt (from roboflow)\n",
            "  Downloading requests_toolbelt-1.0.0-py2.py3-none-any.whl (54 kB)\n",
            "\u001b[2K     \u001b[90m━━━━━━━━━━━━━━━━━━━━━━━━━━━━━━━━━━━━━━━━\u001b[0m \u001b[32m54.5/54.5 kB\u001b[0m \u001b[31m1.8 MB/s\u001b[0m eta \u001b[36m0:00:00\u001b[0m\n",
            "\u001b[?25hCollecting python-magic (from roboflow)\n",
            "  Downloading python_magic-0.4.27-py2.py3-none-any.whl (13 kB)\n",
            "Requirement already satisfied: contourpy>=1.0.1 in /usr/local/lib/python3.10/dist-packages (from matplotlib->roboflow) (1.2.1)\n",
            "Requirement already satisfied: fonttools>=4.22.0 in /usr/local/lib/python3.10/dist-packages (from matplotlib->roboflow) (4.53.0)\n",
            "Requirement already satisfied: packaging>=20.0 in /usr/local/lib/python3.10/dist-packages (from matplotlib->roboflow) (24.1)\n",
            "Requirement already satisfied: pyparsing>=2.3.1 in /usr/local/lib/python3.10/dist-packages (from matplotlib->roboflow) (3.1.2)\n",
            "Requirement already satisfied: charset-normalizer<4,>=2 in /usr/local/lib/python3.10/dist-packages (from requests->roboflow) (3.3.2)\n",
            "Installing collected packages: python-magic, python-dotenv, chardet, requests-toolbelt, roboflow\n",
            "  Attempting uninstall: chardet\n",
            "    Found existing installation: chardet 5.2.0\n",
            "    Uninstalling chardet-5.2.0:\n",
            "      Successfully uninstalled chardet-5.2.0\n",
            "Successfully installed chardet-4.0.0 python-dotenv-1.0.1 python-magic-0.4.27 requests-toolbelt-1.0.0 roboflow-1.1.33\n",
            "loading Roboflow workspace...\n",
            "loading Roboflow project...\n"
          ]
        },
        {
          "output_type": "stream",
          "name": "stderr",
          "text": [
            "Downloading Dataset Version Zip in Attire-2 to yolov5pytorch:: 100%|██████████| 150805/150805 [00:03<00:00, 43838.03it/s]"
          ]
        },
        {
          "output_type": "stream",
          "name": "stdout",
          "text": [
            "\n"
          ]
        },
        {
          "output_type": "stream",
          "name": "stderr",
          "text": [
            "\n",
            "Extracting Dataset Version Zip to Attire-2 in yolov5pytorch:: 100%|██████████| 3022/3022 [00:01<00:00, 1723.55it/s]\n"
          ]
        }
      ],
      "source": [
        "!pip install roboflow\n",
        "\n",
        "from roboflow import Roboflow\n",
        "rf = Roboflow(api_key=\"LWHkveY3YFFq3Th1ZfGZ\")\n",
        "project = rf.workspace(\"tce-jb3m3\").project(\"attire\")\n",
        "version = project.version(2)\n",
        "dataset = version.download(\"yolov5\")"
      ]
    },
    {
      "cell_type": "code",
      "source": [
        "%cd /content\n",
        "!git clone https://github.com/ultralytics/yolov5.git"
      ],
      "metadata": {
        "colab": {
          "base_uri": "https://localhost:8080/"
        },
        "id": "rqpuOHtapF-k",
        "outputId": "bdcf2627-eccd-436f-ee65-6d0e22b47a5e"
      },
      "execution_count": 2,
      "outputs": [
        {
          "output_type": "stream",
          "name": "stdout",
          "text": [
            "/content\n",
            "Cloning into 'yolov5'...\n",
            "remote: Enumerating objects: 16680, done.\u001b[K\n",
            "remote: Counting objects: 100% (221/221), done.\u001b[K\n",
            "remote: Compressing objects: 100% (160/160), done.\u001b[K\n",
            "remote: Total 16680 (delta 102), reused 131 (delta 61), pack-reused 16459\u001b[K\n",
            "Receiving objects: 100% (16680/16680), 15.32 MiB | 24.63 MiB/s, done.\n",
            "Resolving deltas: 100% (11408/11408), done.\n"
          ]
        }
      ]
    },
    {
      "cell_type": "code",
      "source": [
        "!pip install requests==2.31.0 pillow>=8.3.2,<10.1.0"
      ],
      "metadata": {
        "colab": {
          "base_uri": "https://localhost:8080/"
        },
        "id": "wrwK1IKDpigX",
        "outputId": "cb6987f6-e8f3-46aa-bd23-e8779caab4d1"
      },
      "execution_count": 3,
      "outputs": [
        {
          "output_type": "stream",
          "name": "stdout",
          "text": [
            "/bin/bash: line 1: 10.1.0: No such file or directory\n"
          ]
        }
      ]
    },
    {
      "cell_type": "code",
      "source": [
        "%cd /content/yolov5/\n",
        "!pip install -r requirements.txt"
      ],
      "metadata": {
        "colab": {
          "base_uri": "https://localhost:8080/",
          "height": 1000
        },
        "id": "t7TLsPMYpk9U",
        "outputId": "05122b70-35c2-4840-8a21-7e667b93c166"
      },
      "execution_count": 4,
      "outputs": [
        {
          "output_type": "stream",
          "name": "stdout",
          "text": [
            "/content/yolov5\n",
            "Collecting gitpython>=3.1.30 (from -r requirements.txt (line 5))\n",
            "  Downloading GitPython-3.1.43-py3-none-any.whl (207 kB)\n",
            "\u001b[2K     \u001b[90m━━━━━━━━━━━━━━━━━━━━━━━━━━━━━━━━━━━━━━━━\u001b[0m \u001b[32m207.3/207.3 kB\u001b[0m \u001b[31m4.7 MB/s\u001b[0m eta \u001b[36m0:00:00\u001b[0m\n",
            "\u001b[?25hRequirement already satisfied: matplotlib>=3.3 in /usr/local/lib/python3.10/dist-packages (from -r requirements.txt (line 6)) (3.7.1)\n",
            "Requirement already satisfied: numpy>=1.23.5 in /usr/local/lib/python3.10/dist-packages (from -r requirements.txt (line 7)) (1.25.2)\n",
            "Requirement already satisfied: opencv-python>=4.1.1 in /usr/local/lib/python3.10/dist-packages (from -r requirements.txt (line 8)) (4.8.0.76)\n",
            "Collecting pillow>=10.3.0 (from -r requirements.txt (line 9))\n",
            "  Downloading pillow-10.3.0-cp310-cp310-manylinux_2_28_x86_64.whl (4.5 MB)\n",
            "\u001b[2K     \u001b[90m━━━━━━━━━━━━━━━━━━━━━━━━━━━━━━━━━━━━━━━━\u001b[0m \u001b[32m4.5/4.5 MB\u001b[0m \u001b[31m16.7 MB/s\u001b[0m eta \u001b[36m0:00:00\u001b[0m\n",
            "\u001b[?25hRequirement already satisfied: psutil in /usr/local/lib/python3.10/dist-packages (from -r requirements.txt (line 10)) (5.9.5)\n",
            "Requirement already satisfied: PyYAML>=5.3.1 in /usr/local/lib/python3.10/dist-packages (from -r requirements.txt (line 11)) (6.0.1)\n",
            "Collecting requests>=2.32.0 (from -r requirements.txt (line 12))\n",
            "  Downloading requests-2.32.3-py3-none-any.whl (64 kB)\n",
            "\u001b[2K     \u001b[90m━━━━━━━━━━━━━━━━━━━━━━━━━━━━━━━━━━━━━━━━\u001b[0m \u001b[32m64.9/64.9 kB\u001b[0m \u001b[31m10.9 MB/s\u001b[0m eta \u001b[36m0:00:00\u001b[0m\n",
            "\u001b[?25hRequirement already satisfied: scipy>=1.4.1 in /usr/local/lib/python3.10/dist-packages (from -r requirements.txt (line 13)) (1.11.4)\n",
            "Collecting thop>=0.1.1 (from -r requirements.txt (line 14))\n",
            "  Downloading thop-0.1.1.post2209072238-py3-none-any.whl (15 kB)\n",
            "Requirement already satisfied: torch>=1.8.0 in /usr/local/lib/python3.10/dist-packages (from -r requirements.txt (line 15)) (2.3.0+cu121)\n",
            "Requirement already satisfied: torchvision>=0.9.0 in /usr/local/lib/python3.10/dist-packages (from -r requirements.txt (line 16)) (0.18.0+cu121)\n",
            "Requirement already satisfied: tqdm>=4.64.0 in /usr/local/lib/python3.10/dist-packages (from -r requirements.txt (line 17)) (4.66.4)\n",
            "Collecting ultralytics>=8.2.34 (from -r requirements.txt (line 18))\n",
            "  Downloading ultralytics-8.2.45-py3-none-any.whl (793 kB)\n",
            "\u001b[2K     \u001b[90m━━━━━━━━━━━━━━━━━━━━━━━━━━━━━━━━━━━━━━━━\u001b[0m \u001b[32m793.6/793.6 kB\u001b[0m \u001b[31m25.1 MB/s\u001b[0m eta \u001b[36m0:00:00\u001b[0m\n",
            "\u001b[?25hRequirement already satisfied: pandas>=1.1.4 in /usr/local/lib/python3.10/dist-packages (from -r requirements.txt (line 27)) (2.0.3)\n",
            "Requirement already satisfied: seaborn>=0.11.0 in /usr/local/lib/python3.10/dist-packages (from -r requirements.txt (line 28)) (0.13.1)\n",
            "Requirement already satisfied: setuptools>=65.5.1 in /usr/local/lib/python3.10/dist-packages (from -r requirements.txt (line 42)) (67.7.2)\n",
            "Collecting gitdb<5,>=4.0.1 (from gitpython>=3.1.30->-r requirements.txt (line 5))\n",
            "  Downloading gitdb-4.0.11-py3-none-any.whl (62 kB)\n",
            "\u001b[2K     \u001b[90m━━━━━━━━━━━━━━━━━━━━━━━━━━━━━━━━━━━━━━━━\u001b[0m \u001b[32m62.7/62.7 kB\u001b[0m \u001b[31m9.3 MB/s\u001b[0m eta \u001b[36m0:00:00\u001b[0m\n",
            "\u001b[?25hRequirement already satisfied: contourpy>=1.0.1 in /usr/local/lib/python3.10/dist-packages (from matplotlib>=3.3->-r requirements.txt (line 6)) (1.2.1)\n",
            "Requirement already satisfied: cycler>=0.10 in /usr/local/lib/python3.10/dist-packages (from matplotlib>=3.3->-r requirements.txt (line 6)) (0.12.1)\n",
            "Requirement already satisfied: fonttools>=4.22.0 in /usr/local/lib/python3.10/dist-packages (from matplotlib>=3.3->-r requirements.txt (line 6)) (4.53.0)\n",
            "Requirement already satisfied: kiwisolver>=1.0.1 in /usr/local/lib/python3.10/dist-packages (from matplotlib>=3.3->-r requirements.txt (line 6)) (1.4.5)\n",
            "Requirement already satisfied: packaging>=20.0 in /usr/local/lib/python3.10/dist-packages (from matplotlib>=3.3->-r requirements.txt (line 6)) (24.1)\n",
            "Requirement already satisfied: pyparsing>=2.3.1 in /usr/local/lib/python3.10/dist-packages (from matplotlib>=3.3->-r requirements.txt (line 6)) (3.1.2)\n",
            "Requirement already satisfied: python-dateutil>=2.7 in /usr/local/lib/python3.10/dist-packages (from matplotlib>=3.3->-r requirements.txt (line 6)) (2.8.2)\n",
            "Requirement already satisfied: charset-normalizer<4,>=2 in /usr/local/lib/python3.10/dist-packages (from requests>=2.32.0->-r requirements.txt (line 12)) (3.3.2)\n",
            "Requirement already satisfied: idna<4,>=2.5 in /usr/local/lib/python3.10/dist-packages (from requests>=2.32.0->-r requirements.txt (line 12)) (3.7)\n",
            "Requirement already satisfied: urllib3<3,>=1.21.1 in /usr/local/lib/python3.10/dist-packages (from requests>=2.32.0->-r requirements.txt (line 12)) (2.0.7)\n",
            "Requirement already satisfied: certifi>=2017.4.17 in /usr/local/lib/python3.10/dist-packages (from requests>=2.32.0->-r requirements.txt (line 12)) (2024.6.2)\n",
            "Requirement already satisfied: filelock in /usr/local/lib/python3.10/dist-packages (from torch>=1.8.0->-r requirements.txt (line 15)) (3.15.3)\n",
            "Requirement already satisfied: typing-extensions>=4.8.0 in /usr/local/lib/python3.10/dist-packages (from torch>=1.8.0->-r requirements.txt (line 15)) (4.12.2)\n",
            "Requirement already satisfied: sympy in /usr/local/lib/python3.10/dist-packages (from torch>=1.8.0->-r requirements.txt (line 15)) (1.12.1)\n",
            "Requirement already satisfied: networkx in /usr/local/lib/python3.10/dist-packages (from torch>=1.8.0->-r requirements.txt (line 15)) (3.3)\n",
            "Requirement already satisfied: jinja2 in /usr/local/lib/python3.10/dist-packages (from torch>=1.8.0->-r requirements.txt (line 15)) (3.1.4)\n",
            "Requirement already satisfied: fsspec in /usr/local/lib/python3.10/dist-packages (from torch>=1.8.0->-r requirements.txt (line 15)) (2023.6.0)\n",
            "Collecting nvidia-cuda-nvrtc-cu12==12.1.105 (from torch>=1.8.0->-r requirements.txt (line 15))\n",
            "  Using cached nvidia_cuda_nvrtc_cu12-12.1.105-py3-none-manylinux1_x86_64.whl (23.7 MB)\n",
            "Collecting nvidia-cuda-runtime-cu12==12.1.105 (from torch>=1.8.0->-r requirements.txt (line 15))\n",
            "  Using cached nvidia_cuda_runtime_cu12-12.1.105-py3-none-manylinux1_x86_64.whl (823 kB)\n",
            "Collecting nvidia-cuda-cupti-cu12==12.1.105 (from torch>=1.8.0->-r requirements.txt (line 15))\n",
            "  Using cached nvidia_cuda_cupti_cu12-12.1.105-py3-none-manylinux1_x86_64.whl (14.1 MB)\n",
            "Collecting nvidia-cudnn-cu12==8.9.2.26 (from torch>=1.8.0->-r requirements.txt (line 15))\n",
            "  Using cached nvidia_cudnn_cu12-8.9.2.26-py3-none-manylinux1_x86_64.whl (731.7 MB)\n",
            "Collecting nvidia-cublas-cu12==12.1.3.1 (from torch>=1.8.0->-r requirements.txt (line 15))\n",
            "  Using cached nvidia_cublas_cu12-12.1.3.1-py3-none-manylinux1_x86_64.whl (410.6 MB)\n",
            "Collecting nvidia-cufft-cu12==11.0.2.54 (from torch>=1.8.0->-r requirements.txt (line 15))\n",
            "  Using cached nvidia_cufft_cu12-11.0.2.54-py3-none-manylinux1_x86_64.whl (121.6 MB)\n",
            "Collecting nvidia-curand-cu12==10.3.2.106 (from torch>=1.8.0->-r requirements.txt (line 15))\n",
            "  Using cached nvidia_curand_cu12-10.3.2.106-py3-none-manylinux1_x86_64.whl (56.5 MB)\n",
            "Collecting nvidia-cusolver-cu12==11.4.5.107 (from torch>=1.8.0->-r requirements.txt (line 15))\n",
            "  Using cached nvidia_cusolver_cu12-11.4.5.107-py3-none-manylinux1_x86_64.whl (124.2 MB)\n",
            "Collecting nvidia-cusparse-cu12==12.1.0.106 (from torch>=1.8.0->-r requirements.txt (line 15))\n",
            "  Using cached nvidia_cusparse_cu12-12.1.0.106-py3-none-manylinux1_x86_64.whl (196.0 MB)\n",
            "Collecting nvidia-nccl-cu12==2.20.5 (from torch>=1.8.0->-r requirements.txt (line 15))\n",
            "  Using cached nvidia_nccl_cu12-2.20.5-py3-none-manylinux2014_x86_64.whl (176.2 MB)\n",
            "Collecting nvidia-nvtx-cu12==12.1.105 (from torch>=1.8.0->-r requirements.txt (line 15))\n",
            "  Using cached nvidia_nvtx_cu12-12.1.105-py3-none-manylinux1_x86_64.whl (99 kB)\n",
            "Requirement already satisfied: triton==2.3.0 in /usr/local/lib/python3.10/dist-packages (from torch>=1.8.0->-r requirements.txt (line 15)) (2.3.0)\n",
            "Collecting nvidia-nvjitlink-cu12 (from nvidia-cusolver-cu12==11.4.5.107->torch>=1.8.0->-r requirements.txt (line 15))\n",
            "  Downloading nvidia_nvjitlink_cu12-12.5.40-py3-none-manylinux2014_x86_64.whl (21.3 MB)\n",
            "\u001b[2K     \u001b[90m━━━━━━━━━━━━━━━━━━━━━━━━━━━━━━━━━━━━━━━━\u001b[0m \u001b[32m21.3/21.3 MB\u001b[0m \u001b[31m60.9 MB/s\u001b[0m eta \u001b[36m0:00:00\u001b[0m\n",
            "\u001b[?25hRequirement already satisfied: py-cpuinfo in /usr/local/lib/python3.10/dist-packages (from ultralytics>=8.2.34->-r requirements.txt (line 18)) (9.0.0)\n",
            "Collecting ultralytics-thop>=2.0.0 (from ultralytics>=8.2.34->-r requirements.txt (line 18))\n",
            "  Downloading ultralytics_thop-2.0.0-py3-none-any.whl (25 kB)\n",
            "Requirement already satisfied: pytz>=2020.1 in /usr/local/lib/python3.10/dist-packages (from pandas>=1.1.4->-r requirements.txt (line 27)) (2023.4)\n",
            "Requirement already satisfied: tzdata>=2022.1 in /usr/local/lib/python3.10/dist-packages (from pandas>=1.1.4->-r requirements.txt (line 27)) (2024.1)\n",
            "Collecting smmap<6,>=3.0.1 (from gitdb<5,>=4.0.1->gitpython>=3.1.30->-r requirements.txt (line 5))\n",
            "  Downloading smmap-5.0.1-py3-none-any.whl (24 kB)\n",
            "Requirement already satisfied: six>=1.5 in /usr/local/lib/python3.10/dist-packages (from python-dateutil>=2.7->matplotlib>=3.3->-r requirements.txt (line 6)) (1.16.0)\n",
            "Requirement already satisfied: MarkupSafe>=2.0 in /usr/local/lib/python3.10/dist-packages (from jinja2->torch>=1.8.0->-r requirements.txt (line 15)) (2.1.5)\n",
            "Requirement already satisfied: mpmath<1.4.0,>=1.1.0 in /usr/local/lib/python3.10/dist-packages (from sympy->torch>=1.8.0->-r requirements.txt (line 15)) (1.3.0)\n",
            "Installing collected packages: smmap, requests, pillow, nvidia-nvtx-cu12, nvidia-nvjitlink-cu12, nvidia-nccl-cu12, nvidia-curand-cu12, nvidia-cufft-cu12, nvidia-cuda-runtime-cu12, nvidia-cuda-nvrtc-cu12, nvidia-cuda-cupti-cu12, nvidia-cublas-cu12, nvidia-cusparse-cu12, nvidia-cudnn-cu12, gitdb, nvidia-cusolver-cu12, gitpython, ultralytics-thop, thop, ultralytics\n",
            "  Attempting uninstall: requests\n",
            "    Found existing installation: requests 2.31.0\n",
            "    Uninstalling requests-2.31.0:\n",
            "      Successfully uninstalled requests-2.31.0\n",
            "  Attempting uninstall: pillow\n",
            "    Found existing installation: Pillow 9.4.0\n",
            "    Uninstalling Pillow-9.4.0:\n",
            "      Successfully uninstalled Pillow-9.4.0\n",
            "\u001b[31mERROR: pip's dependency resolver does not currently take into account all the packages that are installed. This behaviour is the source of the following dependency conflicts.\n",
            "google-colab 1.0.0 requires requests==2.31.0, but you have requests 2.32.3 which is incompatible.\n",
            "imageio 2.31.6 requires pillow<10.1.0,>=8.3.2, but you have pillow 10.3.0 which is incompatible.\u001b[0m\u001b[31m\n",
            "\u001b[0mSuccessfully installed gitdb-4.0.11 gitpython-3.1.43 nvidia-cublas-cu12-12.1.3.1 nvidia-cuda-cupti-cu12-12.1.105 nvidia-cuda-nvrtc-cu12-12.1.105 nvidia-cuda-runtime-cu12-12.1.105 nvidia-cudnn-cu12-8.9.2.26 nvidia-cufft-cu12-11.0.2.54 nvidia-curand-cu12-10.3.2.106 nvidia-cusolver-cu12-11.4.5.107 nvidia-cusparse-cu12-12.1.0.106 nvidia-nccl-cu12-2.20.5 nvidia-nvjitlink-cu12-12.5.40 nvidia-nvtx-cu12-12.1.105 pillow-10.3.0 requests-2.32.3 smmap-5.0.1 thop-0.1.1.post2209072238 ultralytics-8.2.45 ultralytics-thop-2.0.0\n"
          ]
        },
        {
          "output_type": "display_data",
          "data": {
            "application/vnd.colab-display-data+json": {
              "pip_warning": {
                "packages": [
                  "PIL",
                  "requests"
                ]
              },
              "id": "a03a31eaf74249a1b1a679adbf2aa11a"
            }
          },
          "metadata": {}
        }
      ]
    },
    {
      "cell_type": "code",
      "source": [
        "# 패키지 설치\n",
        "!pip install -r requirements.txt\n",
        "\n",
        "# 런타임 재시작\n",
        "# Colab에서는 이 코드를 실행하여 런타임을 재시작할 수 있습니다.\n",
        "import os\n",
        "os.kill(os.getpid(), 9)\n"
      ],
      "metadata": {
        "colab": {
          "base_uri": "https://localhost:8080/"
        },
        "id": "7zWd-0gtpmnf",
        "outputId": "2f61152c-763e-4406-cac7-92dc4209df8b"
      },
      "execution_count": null,
      "outputs": [
        {
          "output_type": "stream",
          "name": "stdout",
          "text": [
            "\u001b[31mERROR: Could not open requirements file: [Errno 2] No such file or directory: 'requirements.txt'\u001b[0m\u001b[31m\n",
            "\u001b[0m"
          ]
        }
      ]
    },
    {
      "cell_type": "code",
      "source": [
        "# 패키지 설치\n",
        "!pip install -r /content/yolov5/requirements.txt\n"
      ],
      "metadata": {
        "colab": {
          "base_uri": "https://localhost:8080/"
        },
        "id": "bCv5-3hdqAh1",
        "outputId": "e65b3ad2-2836-4f57-dc91-ab011a8256bb"
      },
      "execution_count": 1,
      "outputs": [
        {
          "output_type": "stream",
          "name": "stdout",
          "text": [
            "Requirement already satisfied: gitpython>=3.1.30 in /usr/local/lib/python3.10/dist-packages (from -r /content/yolov5/requirements.txt (line 5)) (3.1.43)\n",
            "Requirement already satisfied: matplotlib>=3.3 in /usr/local/lib/python3.10/dist-packages (from -r /content/yolov5/requirements.txt (line 6)) (3.7.1)\n",
            "Requirement already satisfied: numpy>=1.23.5 in /usr/local/lib/python3.10/dist-packages (from -r /content/yolov5/requirements.txt (line 7)) (1.25.2)\n",
            "Requirement already satisfied: opencv-python>=4.1.1 in /usr/local/lib/python3.10/dist-packages (from -r /content/yolov5/requirements.txt (line 8)) (4.8.0.76)\n",
            "Requirement already satisfied: pillow>=10.3.0 in /usr/local/lib/python3.10/dist-packages (from -r /content/yolov5/requirements.txt (line 9)) (10.3.0)\n",
            "Requirement already satisfied: psutil in /usr/local/lib/python3.10/dist-packages (from -r /content/yolov5/requirements.txt (line 10)) (5.9.5)\n",
            "Requirement already satisfied: PyYAML>=5.3.1 in /usr/local/lib/python3.10/dist-packages (from -r /content/yolov5/requirements.txt (line 11)) (6.0.1)\n",
            "Requirement already satisfied: requests>=2.32.0 in /usr/local/lib/python3.10/dist-packages (from -r /content/yolov5/requirements.txt (line 12)) (2.32.3)\n",
            "Requirement already satisfied: scipy>=1.4.1 in /usr/local/lib/python3.10/dist-packages (from -r /content/yolov5/requirements.txt (line 13)) (1.11.4)\n",
            "Requirement already satisfied: thop>=0.1.1 in /usr/local/lib/python3.10/dist-packages (from -r /content/yolov5/requirements.txt (line 14)) (0.1.1.post2209072238)\n",
            "Requirement already satisfied: torch>=1.8.0 in /usr/local/lib/python3.10/dist-packages (from -r /content/yolov5/requirements.txt (line 15)) (2.3.0+cu121)\n",
            "Requirement already satisfied: torchvision>=0.9.0 in /usr/local/lib/python3.10/dist-packages (from -r /content/yolov5/requirements.txt (line 16)) (0.18.0+cu121)\n",
            "Requirement already satisfied: tqdm>=4.64.0 in /usr/local/lib/python3.10/dist-packages (from -r /content/yolov5/requirements.txt (line 17)) (4.66.4)\n",
            "Requirement already satisfied: ultralytics>=8.2.34 in /usr/local/lib/python3.10/dist-packages (from -r /content/yolov5/requirements.txt (line 18)) (8.2.45)\n",
            "Requirement already satisfied: pandas>=1.1.4 in /usr/local/lib/python3.10/dist-packages (from -r /content/yolov5/requirements.txt (line 27)) (2.0.3)\n",
            "Requirement already satisfied: seaborn>=0.11.0 in /usr/local/lib/python3.10/dist-packages (from -r /content/yolov5/requirements.txt (line 28)) (0.13.1)\n",
            "Requirement already satisfied: setuptools>=65.5.1 in /usr/local/lib/python3.10/dist-packages (from -r /content/yolov5/requirements.txt (line 42)) (67.7.2)\n",
            "Requirement already satisfied: gitdb<5,>=4.0.1 in /usr/local/lib/python3.10/dist-packages (from gitpython>=3.1.30->-r /content/yolov5/requirements.txt (line 5)) (4.0.11)\n",
            "Requirement already satisfied: contourpy>=1.0.1 in /usr/local/lib/python3.10/dist-packages (from matplotlib>=3.3->-r /content/yolov5/requirements.txt (line 6)) (1.2.1)\n",
            "Requirement already satisfied: cycler>=0.10 in /usr/local/lib/python3.10/dist-packages (from matplotlib>=3.3->-r /content/yolov5/requirements.txt (line 6)) (0.12.1)\n",
            "Requirement already satisfied: fonttools>=4.22.0 in /usr/local/lib/python3.10/dist-packages (from matplotlib>=3.3->-r /content/yolov5/requirements.txt (line 6)) (4.53.0)\n",
            "Requirement already satisfied: kiwisolver>=1.0.1 in /usr/local/lib/python3.10/dist-packages (from matplotlib>=3.3->-r /content/yolov5/requirements.txt (line 6)) (1.4.5)\n",
            "Requirement already satisfied: packaging>=20.0 in /usr/local/lib/python3.10/dist-packages (from matplotlib>=3.3->-r /content/yolov5/requirements.txt (line 6)) (24.1)\n",
            "Requirement already satisfied: pyparsing>=2.3.1 in /usr/local/lib/python3.10/dist-packages (from matplotlib>=3.3->-r /content/yolov5/requirements.txt (line 6)) (3.1.2)\n",
            "Requirement already satisfied: python-dateutil>=2.7 in /usr/local/lib/python3.10/dist-packages (from matplotlib>=3.3->-r /content/yolov5/requirements.txt (line 6)) (2.8.2)\n",
            "Requirement already satisfied: charset-normalizer<4,>=2 in /usr/local/lib/python3.10/dist-packages (from requests>=2.32.0->-r /content/yolov5/requirements.txt (line 12)) (3.3.2)\n",
            "Requirement already satisfied: idna<4,>=2.5 in /usr/local/lib/python3.10/dist-packages (from requests>=2.32.0->-r /content/yolov5/requirements.txt (line 12)) (3.7)\n",
            "Requirement already satisfied: urllib3<3,>=1.21.1 in /usr/local/lib/python3.10/dist-packages (from requests>=2.32.0->-r /content/yolov5/requirements.txt (line 12)) (2.0.7)\n",
            "Requirement already satisfied: certifi>=2017.4.17 in /usr/local/lib/python3.10/dist-packages (from requests>=2.32.0->-r /content/yolov5/requirements.txt (line 12)) (2024.6.2)\n",
            "Requirement already satisfied: filelock in /usr/local/lib/python3.10/dist-packages (from torch>=1.8.0->-r /content/yolov5/requirements.txt (line 15)) (3.15.3)\n",
            "Requirement already satisfied: typing-extensions>=4.8.0 in /usr/local/lib/python3.10/dist-packages (from torch>=1.8.0->-r /content/yolov5/requirements.txt (line 15)) (4.12.2)\n",
            "Requirement already satisfied: sympy in /usr/local/lib/python3.10/dist-packages (from torch>=1.8.0->-r /content/yolov5/requirements.txt (line 15)) (1.12.1)\n",
            "Requirement already satisfied: networkx in /usr/local/lib/python3.10/dist-packages (from torch>=1.8.0->-r /content/yolov5/requirements.txt (line 15)) (3.3)\n",
            "Requirement already satisfied: jinja2 in /usr/local/lib/python3.10/dist-packages (from torch>=1.8.0->-r /content/yolov5/requirements.txt (line 15)) (3.1.4)\n",
            "Requirement already satisfied: fsspec in /usr/local/lib/python3.10/dist-packages (from torch>=1.8.0->-r /content/yolov5/requirements.txt (line 15)) (2023.6.0)\n",
            "Requirement already satisfied: nvidia-cuda-nvrtc-cu12==12.1.105 in /usr/local/lib/python3.10/dist-packages (from torch>=1.8.0->-r /content/yolov5/requirements.txt (line 15)) (12.1.105)\n",
            "Requirement already satisfied: nvidia-cuda-runtime-cu12==12.1.105 in /usr/local/lib/python3.10/dist-packages (from torch>=1.8.0->-r /content/yolov5/requirements.txt (line 15)) (12.1.105)\n",
            "Requirement already satisfied: nvidia-cuda-cupti-cu12==12.1.105 in /usr/local/lib/python3.10/dist-packages (from torch>=1.8.0->-r /content/yolov5/requirements.txt (line 15)) (12.1.105)\n",
            "Requirement already satisfied: nvidia-cudnn-cu12==8.9.2.26 in /usr/local/lib/python3.10/dist-packages (from torch>=1.8.0->-r /content/yolov5/requirements.txt (line 15)) (8.9.2.26)\n",
            "Requirement already satisfied: nvidia-cublas-cu12==12.1.3.1 in /usr/local/lib/python3.10/dist-packages (from torch>=1.8.0->-r /content/yolov5/requirements.txt (line 15)) (12.1.3.1)\n",
            "Requirement already satisfied: nvidia-cufft-cu12==11.0.2.54 in /usr/local/lib/python3.10/dist-packages (from torch>=1.8.0->-r /content/yolov5/requirements.txt (line 15)) (11.0.2.54)\n",
            "Requirement already satisfied: nvidia-curand-cu12==10.3.2.106 in /usr/local/lib/python3.10/dist-packages (from torch>=1.8.0->-r /content/yolov5/requirements.txt (line 15)) (10.3.2.106)\n",
            "Requirement already satisfied: nvidia-cusolver-cu12==11.4.5.107 in /usr/local/lib/python3.10/dist-packages (from torch>=1.8.0->-r /content/yolov5/requirements.txt (line 15)) (11.4.5.107)\n",
            "Requirement already satisfied: nvidia-cusparse-cu12==12.1.0.106 in /usr/local/lib/python3.10/dist-packages (from torch>=1.8.0->-r /content/yolov5/requirements.txt (line 15)) (12.1.0.106)\n",
            "Requirement already satisfied: nvidia-nccl-cu12==2.20.5 in /usr/local/lib/python3.10/dist-packages (from torch>=1.8.0->-r /content/yolov5/requirements.txt (line 15)) (2.20.5)\n",
            "Requirement already satisfied: nvidia-nvtx-cu12==12.1.105 in /usr/local/lib/python3.10/dist-packages (from torch>=1.8.0->-r /content/yolov5/requirements.txt (line 15)) (12.1.105)\n",
            "Requirement already satisfied: triton==2.3.0 in /usr/local/lib/python3.10/dist-packages (from torch>=1.8.0->-r /content/yolov5/requirements.txt (line 15)) (2.3.0)\n",
            "Requirement already satisfied: nvidia-nvjitlink-cu12 in /usr/local/lib/python3.10/dist-packages (from nvidia-cusolver-cu12==11.4.5.107->torch>=1.8.0->-r /content/yolov5/requirements.txt (line 15)) (12.5.40)\n",
            "Requirement already satisfied: py-cpuinfo in /usr/local/lib/python3.10/dist-packages (from ultralytics>=8.2.34->-r /content/yolov5/requirements.txt (line 18)) (9.0.0)\n",
            "Requirement already satisfied: ultralytics-thop>=2.0.0 in /usr/local/lib/python3.10/dist-packages (from ultralytics>=8.2.34->-r /content/yolov5/requirements.txt (line 18)) (2.0.0)\n",
            "Requirement already satisfied: pytz>=2020.1 in /usr/local/lib/python3.10/dist-packages (from pandas>=1.1.4->-r /content/yolov5/requirements.txt (line 27)) (2023.4)\n",
            "Requirement already satisfied: tzdata>=2022.1 in /usr/local/lib/python3.10/dist-packages (from pandas>=1.1.4->-r /content/yolov5/requirements.txt (line 27)) (2024.1)\n",
            "Requirement already satisfied: smmap<6,>=3.0.1 in /usr/local/lib/python3.10/dist-packages (from gitdb<5,>=4.0.1->gitpython>=3.1.30->-r /content/yolov5/requirements.txt (line 5)) (5.0.1)\n",
            "Requirement already satisfied: six>=1.5 in /usr/local/lib/python3.10/dist-packages (from python-dateutil>=2.7->matplotlib>=3.3->-r /content/yolov5/requirements.txt (line 6)) (1.16.0)\n",
            "Requirement already satisfied: MarkupSafe>=2.0 in /usr/local/lib/python3.10/dist-packages (from jinja2->torch>=1.8.0->-r /content/yolov5/requirements.txt (line 15)) (2.1.5)\n",
            "Requirement already satisfied: mpmath<1.4.0,>=1.1.0 in /usr/local/lib/python3.10/dist-packages (from sympy->torch>=1.8.0->-r /content/yolov5/requirements.txt (line 15)) (1.3.0)\n"
          ]
        }
      ]
    },
    {
      "cell_type": "code",
      "source": [
        "%cat /content/Attire-2/data.yaml"
      ],
      "metadata": {
        "colab": {
          "base_uri": "https://localhost:8080/"
        },
        "id": "TfRFCCHiqMig",
        "outputId": "6f24bcc5-091b-4410-ab73-40aaea298fd6"
      },
      "execution_count": 2,
      "outputs": [
        {
          "output_type": "stream",
          "name": "stdout",
          "text": [
            "names:\n",
            "- red\n",
            "nc: 1\n",
            "roboflow:\n",
            "  license: CC BY 4.0\n",
            "  project: attire\n",
            "  url: https://universe.roboflow.com/tce-jb3m3/attire/dataset/2\n",
            "  version: 2\n",
            "  workspace: tce-jb3m3\n",
            "test: ../test/images\n",
            "train: Attire-2/train/images\n",
            "val: Attire-2/valid/images\n"
          ]
        }
      ]
    },
    {
      "cell_type": "code",
      "source": [
        "%cd /\n",
        "from glob import glob\n",
        "\n",
        "img_list = glob('/content/Attire-2/train/images/*.jpg')\n",
        "\n",
        "print(len(img_list))"
      ],
      "metadata": {
        "colab": {
          "base_uri": "https://localhost:8080/"
        },
        "id": "cKa55xGWqQWt",
        "outputId": "2d8d5599-c6b6-4bc0-fbc4-c861714bcf4b"
      },
      "execution_count": 3,
      "outputs": [
        {
          "output_type": "stream",
          "name": "stdout",
          "text": [
            "/\n",
            "1317\n"
          ]
        }
      ]
    },
    {
      "cell_type": "code",
      "source": [
        "from sklearn.model_selection import train_test_split\n",
        "\n",
        "train_img_list, val_img_list = train_test_split(img_list,test_size=0.3, random_state=2000)\n",
        "\n",
        "print(len(train_img_list), len(val_img_list))"
      ],
      "metadata": {
        "colab": {
          "base_uri": "https://localhost:8080/"
        },
        "id": "wYeaoaP1qSlV",
        "outputId": "3e0f7726-34a6-4fe3-f1e8-c8a82afedfa8"
      },
      "execution_count": 4,
      "outputs": [
        {
          "output_type": "stream",
          "name": "stdout",
          "text": [
            "921 396\n"
          ]
        }
      ]
    },
    {
      "cell_type": "code",
      "source": [
        "with open('/content/Attire-2/train.txt', 'w') as f:\n",
        "  f.write('\\n'.join(train_img_list) + '\\n')\n",
        "\n",
        "with open('/content/Attire-2/val.txt', 'w') as f:\n",
        "  f.write('\\n'.join(val_img_list) + '\\n')"
      ],
      "metadata": {
        "id": "op7cSp75qUUK"
      },
      "execution_count": 5,
      "outputs": []
    },
    {
      "cell_type": "code",
      "source": [
        "import yaml\n",
        "\n",
        "# yaml 파일 읽기\n",
        "with open('/content/Attire-2/data.yaml', 'r') as f:\n",
        "  data = yaml.load(f, Loader=yaml.FullLoader)\n",
        "\n",
        "print(data)\n",
        "\n",
        "# 경로 업데이트\n",
        "data['train'] = '/content/Attire-2/train.txt'\n",
        "data['val'] = '/content/Attire-2/val.txt'\n",
        "\n",
        "# yaml 파일 쓰기\n",
        "with open('/content/Attire-2/data.yaml', 'w') as f:\n",
        "  yaml.dump(data, f)\n",
        "\n",
        "print(data)"
      ],
      "metadata": {
        "colab": {
          "base_uri": "https://localhost:8080/"
        },
        "id": "2e7mIYG9qWGu",
        "outputId": "ae246c3d-979e-469a-8da2-d87a42449a17"
      },
      "execution_count": 6,
      "outputs": [
        {
          "output_type": "stream",
          "name": "stdout",
          "text": [
            "{'names': ['red'], 'nc': 1, 'roboflow': {'license': 'CC BY 4.0', 'project': 'attire', 'url': 'https://universe.roboflow.com/tce-jb3m3/attire/dataset/2', 'version': 2, 'workspace': 'tce-jb3m3'}, 'test': '../test/images', 'train': 'Attire-2/train/images', 'val': 'Attire-2/valid/images'}\n",
            "{'names': ['red'], 'nc': 1, 'roboflow': {'license': 'CC BY 4.0', 'project': 'attire', 'url': 'https://universe.roboflow.com/tce-jb3m3/attire/dataset/2', 'version': 2, 'workspace': 'tce-jb3m3'}, 'test': '../test/images', 'train': '/content/Attire-2/train.txt', 'val': '/content/Attire-2/val.txt'}\n"
          ]
        }
      ]
    },
    {
      "cell_type": "code",
      "source": [
        "%cd /content/yolov5/\n",
        "\n",
        "!python train.py --img 320 --batch 16 --epochs 50 --data /content/Attire-2/data.yaml --cfg ./models/yolov5s.yaml --weights yolov5s.pt --name red_yolov5s_results"
      ],
      "metadata": {
        "colab": {
          "base_uri": "https://localhost:8080/"
        },
        "id": "erDYCBb5qX6A",
        "outputId": "1c5ce5fc-4827-4ffe-8f8d-c678c5315fa1"
      },
      "execution_count": 7,
      "outputs": [
        {
          "output_type": "stream",
          "name": "stdout",
          "text": [
            "/content/yolov5\n",
            "2024-06-27 07:47:18.092533: E external/local_xla/xla/stream_executor/cuda/cuda_dnn.cc:9261] Unable to register cuDNN factory: Attempting to register factory for plugin cuDNN when one has already been registered\n",
            "2024-06-27 07:47:18.092584: E external/local_xla/xla/stream_executor/cuda/cuda_fft.cc:607] Unable to register cuFFT factory: Attempting to register factory for plugin cuFFT when one has already been registered\n",
            "2024-06-27 07:47:18.193965: E external/local_xla/xla/stream_executor/cuda/cuda_blas.cc:1515] Unable to register cuBLAS factory: Attempting to register factory for plugin cuBLAS when one has already been registered\n",
            "\u001b[34m\u001b[1mtrain: \u001b[0mweights=yolov5s.pt, cfg=./models/yolov5s.yaml, data=/content/Attire-2/data.yaml, hyp=data/hyps/hyp.scratch-low.yaml, epochs=50, batch_size=16, imgsz=320, rect=False, resume=False, nosave=False, noval=False, noautoanchor=False, noplots=False, evolve=None, evolve_population=data/hyps, resume_evolve=None, bucket=, cache=None, image_weights=False, device=, multi_scale=False, single_cls=False, optimizer=SGD, sync_bn=False, workers=8, project=runs/train, name=red_yolov5s_results, exist_ok=False, quad=False, cos_lr=False, label_smoothing=0.0, patience=100, freeze=[0], save_period=-1, seed=0, local_rank=-1, entity=None, upload_dataset=False, bbox_interval=-1, artifact_alias=latest, ndjson_console=False, ndjson_file=False\n",
            "\u001b[34m\u001b[1mgithub: \u001b[0mup to date with https://github.com/ultralytics/yolov5 ✅\n",
            "YOLOv5 🚀 v7.0-331-gab364c98 Python-3.10.12 torch-2.3.0+cu121 CUDA:0 (Tesla T4, 15102MiB)\n",
            "\n",
            "\u001b[34m\u001b[1mhyperparameters: \u001b[0mlr0=0.01, lrf=0.01, momentum=0.937, weight_decay=0.0005, warmup_epochs=3.0, warmup_momentum=0.8, warmup_bias_lr=0.1, box=0.05, cls=0.5, cls_pw=1.0, obj=1.0, obj_pw=1.0, iou_t=0.2, anchor_t=4.0, fl_gamma=0.0, hsv_h=0.015, hsv_s=0.7, hsv_v=0.4, degrees=0.0, translate=0.1, scale=0.5, shear=0.0, perspective=0.0, flipud=0.0, fliplr=0.5, mosaic=1.0, mixup=0.0, copy_paste=0.0\n",
            "\u001b[34m\u001b[1mComet: \u001b[0mrun 'pip install comet_ml' to automatically track and visualize YOLOv5 🚀 runs in Comet\n",
            "\u001b[34m\u001b[1mTensorBoard: \u001b[0mStart with 'tensorboard --logdir runs/train', view at http://localhost:6006/\n",
            "Downloading https://ultralytics.com/assets/Arial.ttf to /root/.config/Ultralytics/Arial.ttf...\n",
            "100% 755k/755k [00:00<00:00, 21.9MB/s]\n",
            "Downloading https://github.com/ultralytics/yolov5/releases/download/v7.0/yolov5s.pt to yolov5s.pt...\n",
            "100% 14.1M/14.1M [00:00<00:00, 233MB/s]\n",
            "\n",
            "Overriding model.yaml nc=80 with nc=1\n",
            "\n",
            "                 from  n    params  module                                  arguments                     \n",
            "  0                -1  1      3520  models.common.Conv                      [3, 32, 6, 2, 2]              \n",
            "  1                -1  1     18560  models.common.Conv                      [32, 64, 3, 2]                \n",
            "  2                -1  1     18816  models.common.C3                        [64, 64, 1]                   \n",
            "  3                -1  1     73984  models.common.Conv                      [64, 128, 3, 2]               \n",
            "  4                -1  2    115712  models.common.C3                        [128, 128, 2]                 \n",
            "  5                -1  1    295424  models.common.Conv                      [128, 256, 3, 2]              \n",
            "  6                -1  3    625152  models.common.C3                        [256, 256, 3]                 \n",
            "  7                -1  1   1180672  models.common.Conv                      [256, 512, 3, 2]              \n",
            "  8                -1  1   1182720  models.common.C3                        [512, 512, 1]                 \n",
            "  9                -1  1    656896  models.common.SPPF                      [512, 512, 5]                 \n",
            " 10                -1  1    131584  models.common.Conv                      [512, 256, 1, 1]              \n",
            " 11                -1  1         0  torch.nn.modules.upsampling.Upsample    [None, 2, 'nearest']          \n",
            " 12           [-1, 6]  1         0  models.common.Concat                    [1]                           \n",
            " 13                -1  1    361984  models.common.C3                        [512, 256, 1, False]          \n",
            " 14                -1  1     33024  models.common.Conv                      [256, 128, 1, 1]              \n",
            " 15                -1  1         0  torch.nn.modules.upsampling.Upsample    [None, 2, 'nearest']          \n",
            " 16           [-1, 4]  1         0  models.common.Concat                    [1]                           \n",
            " 17                -1  1     90880  models.common.C3                        [256, 128, 1, False]          \n",
            " 18                -1  1    147712  models.common.Conv                      [128, 128, 3, 2]              \n",
            " 19          [-1, 14]  1         0  models.common.Concat                    [1]                           \n",
            " 20                -1  1    296448  models.common.C3                        [256, 256, 1, False]          \n",
            " 21                -1  1    590336  models.common.Conv                      [256, 256, 3, 2]              \n",
            " 22          [-1, 10]  1         0  models.common.Concat                    [1]                           \n",
            " 23                -1  1   1182720  models.common.C3                        [512, 512, 1, False]          \n",
            " 24      [17, 20, 23]  1     16182  models.yolo.Detect                      [1, [[10, 13, 16, 30, 33, 23], [30, 61, 62, 45, 59, 119], [116, 90, 156, 198, 373, 326]], [128, 256, 512]]\n",
            "YOLOv5s summary: 214 layers, 7022326 parameters, 7022326 gradients, 15.9 GFLOPs\n",
            "\n",
            "Transferred 342/349 items from yolov5s.pt\n",
            "\u001b[34m\u001b[1mAMP: \u001b[0mchecks passed ✅\n",
            "\u001b[34m\u001b[1moptimizer:\u001b[0m SGD(lr=0.01) with parameter groups 57 weight(decay=0.0), 60 weight(decay=0.0005), 60 bias\n",
            "\u001b[34m\u001b[1malbumentations: \u001b[0mBlur(p=0.01, blur_limit=(3, 7)), MedianBlur(p=0.01, blur_limit=(3, 7)), ToGray(p=0.01), CLAHE(p=0.01, clip_limit=(1, 4.0), tile_grid_size=(8, 8))\n",
            "/usr/lib/python3.10/multiprocessing/popen_fork.py:66: RuntimeWarning: os.fork() was called. os.fork() is incompatible with multithreaded code, and JAX is multithreaded, so this will likely lead to a deadlock.\n",
            "  self.pid = os.fork()\n",
            "\u001b[34m\u001b[1mtrain: \u001b[0mScanning /content/Attire-2/train... 921 images, 3 backgrounds, 0 corrupt: 100% 921/921 [00:02<00:00, 374.63it/s]\n",
            "\u001b[34m\u001b[1mtrain: \u001b[0mNew cache created: /content/Attire-2/train.cache\n",
            "\u001b[34m\u001b[1mval: \u001b[0mScanning /content/Attire-2/val... 396 images, 2 backgrounds, 0 corrupt: 100% 396/396 [00:01<00:00, 253.41it/s]\n",
            "\u001b[34m\u001b[1mval: \u001b[0mNew cache created: /content/Attire-2/val.cache\n",
            "\n",
            "\u001b[34m\u001b[1mAutoAnchor: \u001b[0m5.08 anchors/target, 0.999 Best Possible Recall (BPR). Current anchors are a good fit to dataset ✅\n",
            "Plotting labels to runs/train/red_yolov5s_results/labels.jpg... \n",
            "Image sizes 320 train, 320 val\n",
            "Using 2 dataloader workers\n",
            "Logging results to \u001b[1mruns/train/red_yolov5s_results\u001b[0m\n",
            "Starting training for 50 epochs...\n",
            "\n",
            "      Epoch    GPU_mem   box_loss   obj_loss   cls_loss  Instances       Size\n",
            "       0/49       1.1G    0.09716    0.04124          0         63        320: 100% 58/58 [00:32<00:00,  1.77it/s]\n",
            "                 Class     Images  Instances          P          R      mAP50   mAP50-95: 100% 13/13 [00:07<00:00,  1.81it/s]\n",
            "                   all        396       1226      0.243      0.299      0.181     0.0643\n",
            "\n",
            "      Epoch    GPU_mem   box_loss   obj_loss   cls_loss  Instances       Size\n",
            "       1/49      1.12G    0.06781    0.04614          0         57        320: 100% 58/58 [00:26<00:00,  2.16it/s]\n",
            "                 Class     Images  Instances          P          R      mAP50   mAP50-95: 100% 13/13 [00:06<00:00,  1.96it/s]\n",
            "                   all        396       1226        0.5      0.467      0.451      0.205\n",
            "\n",
            "      Epoch    GPU_mem   box_loss   obj_loss   cls_loss  Instances       Size\n",
            "       2/49      1.12G    0.05966    0.04183          0         73        320: 100% 58/58 [00:24<00:00,  2.37it/s]\n",
            "                 Class     Images  Instances          P          R      mAP50   mAP50-95: 100% 13/13 [00:08<00:00,  1.52it/s]\n",
            "                   all        396       1226      0.492      0.495      0.467      0.222\n",
            "\n",
            "      Epoch    GPU_mem   box_loss   obj_loss   cls_loss  Instances       Size\n",
            "       3/49      1.12G      0.054    0.03899          0         52        320: 100% 58/58 [00:28<00:00,  2.07it/s]\n",
            "                 Class     Images  Instances          P          R      mAP50   mAP50-95: 100% 13/13 [00:04<00:00,  2.77it/s]\n",
            "                   all        396       1226      0.621      0.659      0.609      0.292\n",
            "\n",
            "      Epoch    GPU_mem   box_loss   obj_loss   cls_loss  Instances       Size\n",
            "       4/49      1.12G     0.0468     0.0379          0         49        320: 100% 58/58 [00:26<00:00,  2.17it/s]\n",
            "                 Class     Images  Instances          P          R      mAP50   mAP50-95: 100% 13/13 [00:06<00:00,  1.87it/s]\n",
            "                   all        396       1226      0.766      0.723      0.749      0.423\n",
            "\n",
            "      Epoch    GPU_mem   box_loss   obj_loss   cls_loss  Instances       Size\n",
            "       5/49      1.12G    0.04297    0.03628          0         47        320: 100% 58/58 [00:24<00:00,  2.34it/s]\n",
            "                 Class     Images  Instances          P          R      mAP50   mAP50-95: 100% 13/13 [00:06<00:00,  1.92it/s]\n",
            "                   all        396       1226      0.729      0.687      0.718       0.35\n",
            "\n",
            "      Epoch    GPU_mem   box_loss   obj_loss   cls_loss  Instances       Size\n",
            "       6/49      1.12G    0.04179    0.03565          0         40        320: 100% 58/58 [00:25<00:00,  2.24it/s]\n",
            "                 Class     Images  Instances          P          R      mAP50   mAP50-95: 100% 13/13 [00:04<00:00,  2.77it/s]\n",
            "                   all        396       1226      0.798      0.757       0.78      0.435\n",
            "\n",
            "      Epoch    GPU_mem   box_loss   obj_loss   cls_loss  Instances       Size\n",
            "       7/49      1.12G    0.03866    0.03676          0         52        320: 100% 58/58 [00:28<00:00,  2.05it/s]\n",
            "                 Class     Images  Instances          P          R      mAP50   mAP50-95: 100% 13/13 [00:04<00:00,  2.87it/s]\n",
            "                   all        396       1226      0.824      0.761        0.8      0.506\n",
            "\n",
            "      Epoch    GPU_mem   box_loss   obj_loss   cls_loss  Instances       Size\n",
            "       8/49      1.12G     0.0376    0.03474          0         65        320: 100% 58/58 [00:24<00:00,  2.33it/s]\n",
            "                 Class     Images  Instances          P          R      mAP50   mAP50-95: 100% 13/13 [00:08<00:00,  1.54it/s]\n",
            "                   all        396       1226      0.831      0.759      0.793      0.469\n",
            "\n",
            "      Epoch    GPU_mem   box_loss   obj_loss   cls_loss  Instances       Size\n",
            "       9/49      1.12G    0.03648    0.03398          0         50        320: 100% 58/58 [00:24<00:00,  2.36it/s]\n",
            "                 Class     Images  Instances          P          R      mAP50   mAP50-95: 100% 13/13 [00:06<00:00,  2.12it/s]\n",
            "                   all        396       1226      0.838      0.777      0.812      0.549\n",
            "\n",
            "      Epoch    GPU_mem   box_loss   obj_loss   cls_loss  Instances       Size\n",
            "      10/49      1.12G     0.0354     0.0353          0         56        320: 100% 58/58 [00:28<00:00,  2.03it/s]\n",
            "                 Class     Images  Instances          P          R      mAP50   mAP50-95: 100% 13/13 [00:04<00:00,  2.67it/s]\n",
            "                   all        396       1226      0.841      0.772      0.805      0.535\n",
            "\n",
            "      Epoch    GPU_mem   box_loss   obj_loss   cls_loss  Instances       Size\n",
            "      11/49      1.12G    0.03445    0.03361          0         55        320: 100% 58/58 [00:27<00:00,  2.14it/s]\n",
            "                 Class     Images  Instances          P          R      mAP50   mAP50-95: 100% 13/13 [00:06<00:00,  1.90it/s]\n",
            "                   all        396       1226      0.828      0.738       0.78      0.518\n",
            "\n",
            "      Epoch    GPU_mem   box_loss   obj_loss   cls_loss  Instances       Size\n",
            "      12/49      1.12G    0.03381    0.03431          0         65        320: 100% 58/58 [00:24<00:00,  2.32it/s]\n",
            "                 Class     Images  Instances          P          R      mAP50   mAP50-95: 100% 13/13 [00:07<00:00,  1.82it/s]\n",
            "                   all        396       1226      0.804      0.697      0.744      0.494\n",
            "\n",
            "      Epoch    GPU_mem   box_loss   obj_loss   cls_loss  Instances       Size\n",
            "      13/49      1.12G     0.0328      0.033          0         54        320: 100% 58/58 [00:25<00:00,  2.26it/s]\n",
            "                 Class     Images  Instances          P          R      mAP50   mAP50-95: 100% 13/13 [00:04<00:00,  2.88it/s]\n",
            "                   all        396       1226      0.862      0.766      0.818      0.562\n",
            "\n",
            "      Epoch    GPU_mem   box_loss   obj_loss   cls_loss  Instances       Size\n",
            "      14/49      1.12G    0.03204    0.03364          0         56        320: 100% 58/58 [00:29<00:00,  2.00it/s]\n",
            "                 Class     Images  Instances          P          R      mAP50   mAP50-95: 100% 13/13 [00:04<00:00,  2.81it/s]\n",
            "                   all        396       1226      0.833      0.771      0.805      0.547\n",
            "\n",
            "      Epoch    GPU_mem   box_loss   obj_loss   cls_loss  Instances       Size\n",
            "      15/49      1.12G    0.03196    0.03356          0         44        320: 100% 58/58 [00:25<00:00,  2.27it/s]\n",
            "                 Class     Images  Instances          P          R      mAP50   mAP50-95: 100% 13/13 [00:07<00:00,  1.73it/s]\n",
            "                   all        396       1226       0.84      0.791       0.82      0.569\n",
            "\n",
            "      Epoch    GPU_mem   box_loss   obj_loss   cls_loss  Instances       Size\n",
            "      16/49      1.12G    0.03251    0.03271          0         56        320: 100% 58/58 [00:24<00:00,  2.38it/s]\n",
            "                 Class     Images  Instances          P          R      mAP50   mAP50-95: 100% 13/13 [00:06<00:00,  1.96it/s]\n",
            "                   all        396       1226      0.831       0.78      0.813      0.555\n",
            "\n",
            "      Epoch    GPU_mem   box_loss   obj_loss   cls_loss  Instances       Size\n",
            "      17/49      1.12G     0.0318    0.03279          0         47        320: 100% 58/58 [00:30<00:00,  1.90it/s]\n",
            "                 Class     Images  Instances          P          R      mAP50   mAP50-95: 100% 13/13 [00:04<00:00,  2.78it/s]\n",
            "                   all        396       1226      0.833      0.782      0.803      0.548\n",
            "\n",
            "      Epoch    GPU_mem   box_loss   obj_loss   cls_loss  Instances       Size\n",
            "      18/49      1.12G    0.03061    0.03185          0         54        320: 100% 58/58 [00:28<00:00,  2.05it/s]\n",
            "                 Class     Images  Instances          P          R      mAP50   mAP50-95: 100% 13/13 [00:04<00:00,  2.80it/s]\n",
            "                   all        396       1226      0.836      0.756        0.8      0.542\n",
            "\n",
            "      Epoch    GPU_mem   box_loss   obj_loss   cls_loss  Instances       Size\n",
            "      19/49      1.12G    0.03025    0.03234          0         53        320: 100% 58/58 [00:26<00:00,  2.23it/s]\n",
            "                 Class     Images  Instances          P          R      mAP50   mAP50-95: 100% 13/13 [00:07<00:00,  1.78it/s]\n",
            "                   all        396       1226      0.841      0.797      0.825      0.591\n",
            "\n",
            "      Epoch    GPU_mem   box_loss   obj_loss   cls_loss  Instances       Size\n",
            "      20/49      1.12G    0.02967    0.03185          0         65        320: 100% 58/58 [00:23<00:00,  2.42it/s]\n",
            "                 Class     Images  Instances          P          R      mAP50   mAP50-95: 100% 13/13 [00:08<00:00,  1.59it/s]\n",
            "                   all        396       1226       0.83      0.755      0.785      0.523\n",
            "\n",
            "      Epoch    GPU_mem   box_loss   obj_loss   cls_loss  Instances       Size\n",
            "      21/49      1.12G    0.02963    0.03171          0         53        320: 100% 58/58 [00:25<00:00,  2.29it/s]\n",
            "                 Class     Images  Instances          P          R      mAP50   mAP50-95: 100% 13/13 [00:04<00:00,  2.74it/s]\n",
            "                   all        396       1226      0.852      0.753      0.804      0.557\n",
            "\n",
            "      Epoch    GPU_mem   box_loss   obj_loss   cls_loss  Instances       Size\n",
            "      22/49      1.12G    0.02926    0.03233          0         68        320: 100% 58/58 [00:28<00:00,  2.06it/s]\n",
            "                 Class     Images  Instances          P          R      mAP50   mAP50-95: 100% 13/13 [00:04<00:00,  2.85it/s]\n",
            "                   all        396       1226       0.84      0.771      0.809      0.558\n",
            "\n",
            "      Epoch    GPU_mem   box_loss   obj_loss   cls_loss  Instances       Size\n",
            "      23/49      1.12G      0.029    0.03068          0         45        320: 100% 58/58 [00:25<00:00,  2.26it/s]\n",
            "                 Class     Images  Instances          P          R      mAP50   mAP50-95: 100% 13/13 [00:07<00:00,  1.66it/s]\n",
            "                   all        396       1226       0.86      0.784      0.827      0.579\n",
            "\n",
            "      Epoch    GPU_mem   box_loss   obj_loss   cls_loss  Instances       Size\n",
            "      24/49      1.12G     0.0294    0.03114          0         49        320: 100% 58/58 [00:28<00:00,  2.02it/s]\n",
            "                 Class     Images  Instances          P          R      mAP50   mAP50-95: 100% 13/13 [00:07<00:00,  1.68it/s]\n",
            "                   all        396       1226      0.859      0.783      0.826       0.58\n",
            "\n",
            "      Epoch    GPU_mem   box_loss   obj_loss   cls_loss  Instances       Size\n",
            "      25/49      1.12G    0.02794    0.03018          0         45        320: 100% 58/58 [00:25<00:00,  2.25it/s]\n",
            "                 Class     Images  Instances          P          R      mAP50   mAP50-95: 100% 13/13 [00:04<00:00,  2.74it/s]\n",
            "                   all        396       1226      0.884      0.786      0.831       0.59\n",
            "\n",
            "      Epoch    GPU_mem   box_loss   obj_loss   cls_loss  Instances       Size\n",
            "      26/49      1.12G    0.02705    0.02997          0         69        320: 100% 58/58 [00:28<00:00,  2.04it/s]\n",
            "                 Class     Images  Instances          P          R      mAP50   mAP50-95: 100% 13/13 [00:04<00:00,  2.74it/s]\n",
            "                   all        396       1226      0.843      0.779      0.809      0.566\n",
            "\n",
            "      Epoch    GPU_mem   box_loss   obj_loss   cls_loss  Instances       Size\n",
            "      27/49      1.12G     0.0279    0.03016          0         60        320: 100% 58/58 [00:25<00:00,  2.29it/s]\n",
            "                 Class     Images  Instances          P          R      mAP50   mAP50-95: 100% 13/13 [00:07<00:00,  1.82it/s]\n",
            "                   all        396       1226      0.866      0.787      0.828      0.591\n",
            "\n",
            "      Epoch    GPU_mem   box_loss   obj_loss   cls_loss  Instances       Size\n",
            "      28/49      1.12G    0.02686    0.03047          0         50        320: 100% 58/58 [00:25<00:00,  2.30it/s]\n",
            "                 Class     Images  Instances          P          R      mAP50   mAP50-95: 100% 13/13 [00:06<00:00,  2.09it/s]\n",
            "                   all        396       1226      0.847      0.788      0.826      0.587\n",
            "\n",
            "      Epoch    GPU_mem   box_loss   obj_loss   cls_loss  Instances       Size\n",
            "      29/49      1.12G    0.02643     0.0297          0         66        320: 100% 58/58 [00:25<00:00,  2.26it/s]\n",
            "                 Class     Images  Instances          P          R      mAP50   mAP50-95: 100% 13/13 [00:04<00:00,  2.86it/s]\n",
            "                   all        396       1226      0.847      0.796      0.828      0.593\n",
            "\n",
            "      Epoch    GPU_mem   box_loss   obj_loss   cls_loss  Instances       Size\n",
            "      30/49      1.12G    0.02667    0.03056          0         50        320: 100% 58/58 [00:27<00:00,  2.08it/s]\n",
            "                 Class     Images  Instances          P          R      mAP50   mAP50-95: 100% 13/13 [00:04<00:00,  2.75it/s]\n",
            "                   all        396       1226      0.862      0.797      0.832      0.602\n",
            "\n",
            "      Epoch    GPU_mem   box_loss   obj_loss   cls_loss  Instances       Size\n",
            "      31/49      1.12G    0.02603    0.02996          0         64        320: 100% 58/58 [00:30<00:00,  1.91it/s]\n",
            "                 Class     Images  Instances          P          R      mAP50   mAP50-95: 100% 13/13 [00:05<00:00,  2.22it/s]\n",
            "                   all        396       1226      0.863      0.793      0.826      0.596\n",
            "\n",
            "      Epoch    GPU_mem   box_loss   obj_loss   cls_loss  Instances       Size\n",
            "      32/49      1.12G    0.02666    0.02977          0         42        320: 100% 58/58 [00:25<00:00,  2.31it/s]\n",
            "                 Class     Images  Instances          P          R      mAP50   mAP50-95: 100% 13/13 [00:07<00:00,  1.67it/s]\n",
            "                   all        396       1226      0.846      0.788      0.818      0.593\n",
            "\n",
            "      Epoch    GPU_mem   box_loss   obj_loss   cls_loss  Instances       Size\n",
            "      33/49      1.12G    0.02599    0.02957          0         36        320: 100% 58/58 [00:25<00:00,  2.32it/s]\n",
            "                 Class     Images  Instances          P          R      mAP50   mAP50-95: 100% 13/13 [00:05<00:00,  2.36it/s]\n",
            "                   all        396       1226      0.861        0.8      0.831      0.607\n",
            "\n",
            "      Epoch    GPU_mem   box_loss   obj_loss   cls_loss  Instances       Size\n",
            "      34/49      1.12G    0.02552    0.02941          0         47        320: 100% 58/58 [00:26<00:00,  2.18it/s]\n",
            "                 Class     Images  Instances          P          R      mAP50   mAP50-95: 100% 13/13 [00:04<00:00,  2.80it/s]\n",
            "                   all        396       1226      0.867      0.792      0.824      0.588\n",
            "\n",
            "      Epoch    GPU_mem   box_loss   obj_loss   cls_loss  Instances       Size\n",
            "      35/49      1.12G    0.02535    0.02833          0         63        320: 100% 58/58 [00:27<00:00,  2.09it/s]\n",
            "                 Class     Images  Instances          P          R      mAP50   mAP50-95: 100% 13/13 [00:05<00:00,  2.48it/s]\n",
            "                   all        396       1226      0.862      0.786      0.819      0.586\n",
            "\n",
            "      Epoch    GPU_mem   box_loss   obj_loss   cls_loss  Instances       Size\n",
            "      36/49      1.12G    0.02466    0.02767          0         59        320: 100% 58/58 [00:24<00:00,  2.36it/s]\n",
            "                 Class     Images  Instances          P          R      mAP50   mAP50-95: 100% 13/13 [00:08<00:00,  1.53it/s]\n",
            "                   all        396       1226      0.856      0.792      0.819      0.591\n",
            "\n",
            "      Epoch    GPU_mem   box_loss   obj_loss   cls_loss  Instances       Size\n",
            "      37/49      1.12G     0.0245    0.02873          0         59        320: 100% 58/58 [00:24<00:00,  2.36it/s]\n",
            "                 Class     Images  Instances          P          R      mAP50   mAP50-95: 100% 13/13 [00:04<00:00,  2.67it/s]\n",
            "                   all        396       1226      0.863      0.792      0.823      0.596\n",
            "\n",
            "      Epoch    GPU_mem   box_loss   obj_loss   cls_loss  Instances       Size\n",
            "      38/49      1.12G    0.02476    0.02776          0         49        320: 100% 58/58 [00:32<00:00,  1.78it/s]\n",
            "                 Class     Images  Instances          P          R      mAP50   mAP50-95: 100% 13/13 [00:04<00:00,  2.74it/s]\n",
            "                   all        396       1226      0.881      0.796      0.836      0.605\n",
            "\n",
            "      Epoch    GPU_mem   box_loss   obj_loss   cls_loss  Instances       Size\n",
            "      39/49      1.12G    0.02407      0.028          0         60        320: 100% 58/58 [00:28<00:00,  2.05it/s]\n",
            "                 Class     Images  Instances          P          R      mAP50   mAP50-95: 100% 13/13 [00:04<00:00,  2.72it/s]\n",
            "                   all        396       1226      0.873      0.801      0.831      0.604\n",
            "\n",
            "      Epoch    GPU_mem   box_loss   obj_loss   cls_loss  Instances       Size\n",
            "      40/49      1.12G    0.02445    0.02888          0         36        320: 100% 58/58 [00:26<00:00,  2.19it/s]\n",
            "                 Class     Images  Instances          P          R      mAP50   mAP50-95: 100% 13/13 [00:07<00:00,  1.79it/s]\n",
            "                   all        396       1226      0.858        0.8      0.829      0.603\n",
            "\n",
            "      Epoch    GPU_mem   box_loss   obj_loss   cls_loss  Instances       Size\n",
            "      41/49      1.12G     0.0239    0.02756          0         42        320: 100% 58/58 [00:25<00:00,  2.31it/s]\n",
            "                 Class     Images  Instances          P          R      mAP50   mAP50-95: 100% 13/13 [00:06<00:00,  2.11it/s]\n",
            "                   all        396       1226      0.874        0.8       0.83       0.61\n",
            "\n",
            "      Epoch    GPU_mem   box_loss   obj_loss   cls_loss  Instances       Size\n",
            "      42/49      1.12G    0.02392    0.02868          0         48        320: 100% 58/58 [00:26<00:00,  2.19it/s]\n",
            "                 Class     Images  Instances          P          R      mAP50   mAP50-95: 100% 13/13 [00:04<00:00,  2.80it/s]\n",
            "                   all        396       1226      0.872      0.778       0.82      0.587\n",
            "\n",
            "      Epoch    GPU_mem   box_loss   obj_loss   cls_loss  Instances       Size\n",
            "      43/49      1.12G    0.02381    0.02823          0         63        320: 100% 58/58 [00:28<00:00,  2.03it/s]\n",
            "                 Class     Images  Instances          P          R      mAP50   mAP50-95: 100% 13/13 [00:05<00:00,  2.36it/s]\n",
            "                   all        396       1226      0.872      0.803      0.831      0.609\n",
            "\n",
            "      Epoch    GPU_mem   box_loss   obj_loss   cls_loss  Instances       Size\n",
            "      44/49      1.12G    0.02356     0.0269          0         48        320: 100% 58/58 [00:24<00:00,  2.39it/s]\n",
            "                 Class     Images  Instances          P          R      mAP50   mAP50-95: 100% 13/13 [00:08<00:00,  1.46it/s]\n",
            "                   all        396       1226      0.873      0.799      0.827      0.604\n",
            "\n",
            "      Epoch    GPU_mem   box_loss   obj_loss   cls_loss  Instances       Size\n",
            "      45/49      1.12G    0.02359    0.02751          0         57        320: 100% 58/58 [00:28<00:00,  2.05it/s]\n",
            "                 Class     Images  Instances          P          R      mAP50   mAP50-95: 100% 13/13 [00:05<00:00,  2.33it/s]\n",
            "                   all        396       1226      0.884      0.778      0.822      0.602\n",
            "\n",
            "      Epoch    GPU_mem   box_loss   obj_loss   cls_loss  Instances       Size\n",
            "      46/49      1.12G    0.02303    0.02687          0         59        320: 100% 58/58 [00:28<00:00,  2.06it/s]\n",
            "                 Class     Images  Instances          P          R      mAP50   mAP50-95: 100% 13/13 [00:04<00:00,  2.73it/s]\n",
            "                   all        396       1226      0.873      0.784      0.823      0.601\n",
            "\n",
            "      Epoch    GPU_mem   box_loss   obj_loss   cls_loss  Instances       Size\n",
            "      47/49      1.12G    0.02366    0.02665          0         45        320: 100% 58/58 [00:26<00:00,  2.17it/s]\n",
            "                 Class     Images  Instances          P          R      mAP50   mAP50-95: 100% 13/13 [00:05<00:00,  2.32it/s]\n",
            "                   all        396       1226      0.878      0.791      0.827      0.605\n",
            "\n",
            "      Epoch    GPU_mem   box_loss   obj_loss   cls_loss  Instances       Size\n",
            "      48/49      1.12G    0.02308    0.02743          0         58        320: 100% 58/58 [00:24<00:00,  2.36it/s]\n",
            "                 Class     Images  Instances          P          R      mAP50   mAP50-95: 100% 13/13 [00:07<00:00,  1.64it/s]\n",
            "                   all        396       1226      0.883      0.789      0.824      0.606\n",
            "\n",
            "      Epoch    GPU_mem   box_loss   obj_loss   cls_loss  Instances       Size\n",
            "      49/49      1.12G     0.0233    0.02687          0         54        320: 100% 58/58 [00:24<00:00,  2.34it/s]\n",
            "                 Class     Images  Instances          P          R      mAP50   mAP50-95: 100% 13/13 [00:04<00:00,  2.91it/s]\n",
            "                   all        396       1226      0.868      0.796      0.822      0.602\n",
            "\n",
            "50 epochs completed in 0.464 hours.\n",
            "Optimizer stripped from runs/train/red_yolov5s_results/weights/last.pt, 14.3MB\n",
            "Optimizer stripped from runs/train/red_yolov5s_results/weights/best.pt, 14.3MB\n",
            "\n",
            "Validating runs/train/red_yolov5s_results/weights/best.pt...\n",
            "Fusing layers... \n",
            "YOLOv5s summary: 157 layers, 7012822 parameters, 0 gradients, 15.8 GFLOPs\n",
            "                 Class     Images  Instances          P          R      mAP50   mAP50-95: 100% 13/13 [00:07<00:00,  1.69it/s]\n",
            "                   all        396       1226      0.874        0.8       0.83       0.61\n",
            "Results saved to \u001b[1mruns/train/red_yolov5s_results\u001b[0m\n"
          ]
        }
      ]
    },
    {
      "cell_type": "code",
      "source": [
        "from IPython.display import Image\n",
        "import os\n",
        "\n",
        "val_img_path = val_img_list[29]\n",
        "\n",
        "!python detect.py --weights /content/yolov5/runs/train/red_yolov5s_results/weights/best.pt --img 320 --conf 0.5 --source \"{val_img_path}\""
      ],
      "metadata": {
        "colab": {
          "base_uri": "https://localhost:8080/"
        },
        "id": "vR2PxIpzqaIg",
        "outputId": "a446791c-0ad9-4dd9-cf9b-c31c7e48d409"
      },
      "execution_count": 11,
      "outputs": [
        {
          "output_type": "stream",
          "name": "stdout",
          "text": [
            "\u001b[34m\u001b[1mdetect: \u001b[0mweights=['/content/yolov5/runs/train/red_yolov5s_results/weights/best.pt'], source=/content/Attire-2/train/images/1688550280052-SAKA-DESIGNS-Girls-Floral-Printed-Empire-Kurta-with-Dhoti-Pa-1_jpg.rf.c8472182e46719fe7e57cc7fa893de56.jpg, data=data/coco128.yaml, imgsz=[320, 320], conf_thres=0.5, iou_thres=0.45, max_det=1000, device=, view_img=False, save_txt=False, save_csv=False, save_conf=False, save_crop=False, nosave=False, classes=None, agnostic_nms=False, augment=False, visualize=False, update=False, project=runs/detect, name=exp, exist_ok=False, line_thickness=3, hide_labels=False, hide_conf=False, half=False, dnn=False, vid_stride=1\n",
            "YOLOv5 🚀 v7.0-331-gab364c98 Python-3.10.12 torch-2.3.0+cu121 CUDA:0 (Tesla T4, 15102MiB)\n",
            "\n",
            "Fusing layers... \n",
            "YOLOv5s summary: 157 layers, 7012822 parameters, 0 gradients, 15.8 GFLOPs\n",
            "WARNING ⚠️ NMS time limit 0.550s exceeded\n",
            "image 1/1 /content/Attire-2/train/images/1688550280052-SAKA-DESIGNS-Girls-Floral-Printed-Empire-Kurta-with-Dhoti-Pa-1_jpg.rf.c8472182e46719fe7e57cc7fa893de56.jpg: 320x320 3 reds, 5.9ms\n",
            "Speed: 0.3ms pre-process, 5.9ms inference, 754.9ms NMS per image at shape (1, 3, 320, 320)\n",
            "Results saved to \u001b[1mruns/detect/exp4\u001b[0m\n"
          ]
        }
      ]
    },
    {
      "cell_type": "code",
      "source": [
        "!python detect.py --source /content/KakaoTalk_20240627_181435685.mp4 --weights /content/yolov5/runs/train/red_yolov5s_results/weights/best.pt --conf 0.5 --img-size 320\n"
      ],
      "metadata": {
        "colab": {
          "base_uri": "https://localhost:8080/"
        },
        "id": "tHSMf-Qo12AL",
        "outputId": "2728019b-1f8a-4e81-8486-34ad8de8edc1"
      },
      "execution_count": 13,
      "outputs": [
        {
          "output_type": "stream",
          "name": "stdout",
          "text": [
            "\u001b[34m\u001b[1mdetect: \u001b[0mweights=['/content/yolov5/runs/train/red_yolov5s_results/weights/best.pt'], source=/content/KakaoTalk_20240627_181435685.mp4, data=data/coco128.yaml, imgsz=[320, 320], conf_thres=0.5, iou_thres=0.45, max_det=1000, device=, view_img=False, save_txt=False, save_csv=False, save_conf=False, save_crop=False, nosave=False, classes=None, agnostic_nms=False, augment=False, visualize=False, update=False, project=runs/detect, name=exp, exist_ok=False, line_thickness=3, hide_labels=False, hide_conf=False, half=False, dnn=False, vid_stride=1\n",
            "YOLOv5 🚀 v7.0-331-gab364c98 Python-3.10.12 torch-2.3.0+cu121 CUDA:0 (Tesla T4, 15102MiB)\n",
            "\n",
            "Fusing layers... \n",
            "YOLOv5s summary: 157 layers, 7012822 parameters, 0 gradients, 15.8 GFLOPs\n",
            "video 1/1 (1/146) /content/KakaoTalk_20240627_181435685.mp4: 320x320 2 reds, 12.0ms\n",
            "video 1/1 (2/146) /content/KakaoTalk_20240627_181435685.mp4: 320x320 1 red, 8.5ms\n",
            "video 1/1 (3/146) /content/KakaoTalk_20240627_181435685.mp4: 320x320 2 reds, 8.6ms\n",
            "video 1/1 (4/146) /content/KakaoTalk_20240627_181435685.mp4: 320x320 2 reds, 8.1ms\n",
            "video 1/1 (5/146) /content/KakaoTalk_20240627_181435685.mp4: 320x320 2 reds, 9.0ms\n",
            "video 1/1 (6/146) /content/KakaoTalk_20240627_181435685.mp4: 320x320 2 reds, 8.5ms\n",
            "video 1/1 (7/146) /content/KakaoTalk_20240627_181435685.mp4: 320x320 2 reds, 9.2ms\n",
            "video 1/1 (8/146) /content/KakaoTalk_20240627_181435685.mp4: 320x320 2 reds, 8.6ms\n",
            "video 1/1 (9/146) /content/KakaoTalk_20240627_181435685.mp4: 320x320 2 reds, 9.4ms\n",
            "video 1/1 (10/146) /content/KakaoTalk_20240627_181435685.mp4: 320x320 2 reds, 8.0ms\n",
            "video 1/1 (11/146) /content/KakaoTalk_20240627_181435685.mp4: 320x320 2 reds, 8.9ms\n",
            "video 1/1 (12/146) /content/KakaoTalk_20240627_181435685.mp4: 320x320 2 reds, 10.3ms\n",
            "video 1/1 (13/146) /content/KakaoTalk_20240627_181435685.mp4: 320x320 2 reds, 8.2ms\n",
            "video 1/1 (14/146) /content/KakaoTalk_20240627_181435685.mp4: 320x320 1 red, 8.6ms\n",
            "video 1/1 (15/146) /content/KakaoTalk_20240627_181435685.mp4: 320x320 1 red, 9.6ms\n",
            "video 1/1 (16/146) /content/KakaoTalk_20240627_181435685.mp4: 320x320 1 red, 9.1ms\n",
            "video 1/1 (17/146) /content/KakaoTalk_20240627_181435685.mp4: 320x320 (no detections), 8.3ms\n",
            "video 1/1 (18/146) /content/KakaoTalk_20240627_181435685.mp4: 320x320 1 red, 9.2ms\n",
            "video 1/1 (19/146) /content/KakaoTalk_20240627_181435685.mp4: 320x320 1 red, 9.1ms\n",
            "video 1/1 (20/146) /content/KakaoTalk_20240627_181435685.mp4: 320x320 1 red, 9.0ms\n",
            "video 1/1 (21/146) /content/KakaoTalk_20240627_181435685.mp4: 320x320 1 red, 7.2ms\n",
            "video 1/1 (22/146) /content/KakaoTalk_20240627_181435685.mp4: 320x320 2 reds, 7.6ms\n",
            "video 1/1 (23/146) /content/KakaoTalk_20240627_181435685.mp4: 320x320 (no detections), 9.5ms\n",
            "video 1/1 (24/146) /content/KakaoTalk_20240627_181435685.mp4: 320x320 (no detections), 8.9ms\n",
            "video 1/1 (25/146) /content/KakaoTalk_20240627_181435685.mp4: 320x320 (no detections), 8.4ms\n",
            "video 1/1 (26/146) /content/KakaoTalk_20240627_181435685.mp4: 320x320 (no detections), 9.3ms\n",
            "video 1/1 (27/146) /content/KakaoTalk_20240627_181435685.mp4: 320x320 1 red, 8.4ms\n",
            "video 1/1 (28/146) /content/KakaoTalk_20240627_181435685.mp4: 320x320 (no detections), 9.1ms\n",
            "video 1/1 (29/146) /content/KakaoTalk_20240627_181435685.mp4: 320x320 (no detections), 8.1ms\n",
            "video 1/1 (30/146) /content/KakaoTalk_20240627_181435685.mp4: 320x320 1 red, 8.5ms\n",
            "video 1/1 (31/146) /content/KakaoTalk_20240627_181435685.mp4: 320x320 (no detections), 9.2ms\n",
            "video 1/1 (32/146) /content/KakaoTalk_20240627_181435685.mp4: 320x320 (no detections), 8.3ms\n",
            "video 1/1 (33/146) /content/KakaoTalk_20240627_181435685.mp4: 320x320 (no detections), 8.0ms\n",
            "video 1/1 (34/146) /content/KakaoTalk_20240627_181435685.mp4: 320x320 (no detections), 8.4ms\n",
            "video 1/1 (35/146) /content/KakaoTalk_20240627_181435685.mp4: 320x320 1 red, 9.6ms\n",
            "video 1/1 (36/146) /content/KakaoTalk_20240627_181435685.mp4: 320x320 (no detections), 8.7ms\n",
            "video 1/1 (37/146) /content/KakaoTalk_20240627_181435685.mp4: 320x320 (no detections), 8.2ms\n",
            "video 1/1 (38/146) /content/KakaoTalk_20240627_181435685.mp4: 320x320 (no detections), 8.7ms\n",
            "video 1/1 (39/146) /content/KakaoTalk_20240627_181435685.mp4: 320x320 (no detections), 8.5ms\n",
            "video 1/1 (40/146) /content/KakaoTalk_20240627_181435685.mp4: 320x320 (no detections), 6.9ms\n",
            "video 1/1 (41/146) /content/KakaoTalk_20240627_181435685.mp4: 320x320 (no detections), 8.4ms\n",
            "video 1/1 (42/146) /content/KakaoTalk_20240627_181435685.mp4: 320x320 (no detections), 12.6ms\n",
            "video 1/1 (43/146) /content/KakaoTalk_20240627_181435685.mp4: 320x320 (no detections), 8.9ms\n",
            "video 1/1 (44/146) /content/KakaoTalk_20240627_181435685.mp4: 320x320 (no detections), 9.7ms\n",
            "video 1/1 (45/146) /content/KakaoTalk_20240627_181435685.mp4: 320x320 (no detections), 8.2ms\n",
            "video 1/1 (46/146) /content/KakaoTalk_20240627_181435685.mp4: 320x320 (no detections), 8.3ms\n",
            "video 1/1 (47/146) /content/KakaoTalk_20240627_181435685.mp4: 320x320 (no detections), 9.2ms\n",
            "video 1/1 (48/146) /content/KakaoTalk_20240627_181435685.mp4: 320x320 (no detections), 8.6ms\n",
            "video 1/1 (49/146) /content/KakaoTalk_20240627_181435685.mp4: 320x320 (no detections), 9.0ms\n",
            "video 1/1 (50/146) /content/KakaoTalk_20240627_181435685.mp4: 320x320 1 red, 8.7ms\n",
            "video 1/1 (51/146) /content/KakaoTalk_20240627_181435685.mp4: 320x320 (no detections), 9.5ms\n",
            "video 1/1 (52/146) /content/KakaoTalk_20240627_181435685.mp4: 320x320 (no detections), 10.0ms\n",
            "video 1/1 (53/146) /content/KakaoTalk_20240627_181435685.mp4: 320x320 (no detections), 8.0ms\n",
            "video 1/1 (54/146) /content/KakaoTalk_20240627_181435685.mp4: 320x320 (no detections), 8.4ms\n",
            "video 1/1 (55/146) /content/KakaoTalk_20240627_181435685.mp4: 320x320 (no detections), 9.0ms\n",
            "video 1/1 (56/146) /content/KakaoTalk_20240627_181435685.mp4: 320x320 (no detections), 9.3ms\n",
            "video 1/1 (57/146) /content/KakaoTalk_20240627_181435685.mp4: 320x320 (no detections), 8.8ms\n",
            "video 1/1 (58/146) /content/KakaoTalk_20240627_181435685.mp4: 320x320 (no detections), 8.1ms\n",
            "video 1/1 (59/146) /content/KakaoTalk_20240627_181435685.mp4: 320x320 (no detections), 12.5ms\n",
            "video 1/1 (60/146) /content/KakaoTalk_20240627_181435685.mp4: 320x320 (no detections), 8.9ms\n",
            "video 1/1 (61/146) /content/KakaoTalk_20240627_181435685.mp4: 320x320 (no detections), 10.4ms\n",
            "video 1/1 (62/146) /content/KakaoTalk_20240627_181435685.mp4: 320x320 (no detections), 8.1ms\n",
            "video 1/1 (63/146) /content/KakaoTalk_20240627_181435685.mp4: 320x320 (no detections), 11.5ms\n",
            "video 1/1 (64/146) /content/KakaoTalk_20240627_181435685.mp4: 320x320 (no detections), 9.0ms\n",
            "video 1/1 (65/146) /content/KakaoTalk_20240627_181435685.mp4: 320x320 (no detections), 7.9ms\n",
            "video 1/1 (66/146) /content/KakaoTalk_20240627_181435685.mp4: 320x320 (no detections), 8.3ms\n",
            "video 1/1 (67/146) /content/KakaoTalk_20240627_181435685.mp4: 320x320 (no detections), 8.8ms\n",
            "video 1/1 (68/146) /content/KakaoTalk_20240627_181435685.mp4: 320x320 (no detections), 10.2ms\n",
            "video 1/1 (69/146) /content/KakaoTalk_20240627_181435685.mp4: 320x320 (no detections), 8.1ms\n",
            "video 1/1 (70/146) /content/KakaoTalk_20240627_181435685.mp4: 320x320 (no detections), 9.1ms\n",
            "video 1/1 (71/146) /content/KakaoTalk_20240627_181435685.mp4: 320x320 (no detections), 9.5ms\n",
            "video 1/1 (72/146) /content/KakaoTalk_20240627_181435685.mp4: 320x320 (no detections), 9.4ms\n",
            "video 1/1 (73/146) /content/KakaoTalk_20240627_181435685.mp4: 320x320 (no detections), 9.9ms\n",
            "video 1/1 (74/146) /content/KakaoTalk_20240627_181435685.mp4: 320x320 (no detections), 8.7ms\n",
            "video 1/1 (75/146) /content/KakaoTalk_20240627_181435685.mp4: 320x320 (no detections), 9.2ms\n",
            "video 1/1 (76/146) /content/KakaoTalk_20240627_181435685.mp4: 320x320 (no detections), 8.9ms\n",
            "video 1/1 (77/146) /content/KakaoTalk_20240627_181435685.mp4: 320x320 (no detections), 7.9ms\n",
            "video 1/1 (78/146) /content/KakaoTalk_20240627_181435685.mp4: 320x320 (no detections), 8.6ms\n",
            "video 1/1 (79/146) /content/KakaoTalk_20240627_181435685.mp4: 320x320 (no detections), 9.8ms\n",
            "video 1/1 (80/146) /content/KakaoTalk_20240627_181435685.mp4: 320x320 (no detections), 9.1ms\n",
            "video 1/1 (81/146) /content/KakaoTalk_20240627_181435685.mp4: 320x320 (no detections), 7.5ms\n",
            "video 1/1 (82/146) /content/KakaoTalk_20240627_181435685.mp4: 320x320 (no detections), 8.0ms\n",
            "video 1/1 (83/146) /content/KakaoTalk_20240627_181435685.mp4: 320x320 1 red, 8.8ms\n",
            "video 1/1 (84/146) /content/KakaoTalk_20240627_181435685.mp4: 320x320 1 red, 8.8ms\n",
            "video 1/1 (85/146) /content/KakaoTalk_20240627_181435685.mp4: 320x320 (no detections), 9.4ms\n",
            "video 1/1 (86/146) /content/KakaoTalk_20240627_181435685.mp4: 320x320 (no detections), 8.2ms\n",
            "video 1/1 (87/146) /content/KakaoTalk_20240627_181435685.mp4: 320x320 (no detections), 10.1ms\n",
            "video 1/1 (88/146) /content/KakaoTalk_20240627_181435685.mp4: 320x320 (no detections), 8.8ms\n",
            "video 1/1 (89/146) /content/KakaoTalk_20240627_181435685.mp4: 320x320 (no detections), 7.7ms\n",
            "video 1/1 (90/146) /content/KakaoTalk_20240627_181435685.mp4: 320x320 (no detections), 6.1ms\n",
            "video 1/1 (91/146) /content/KakaoTalk_20240627_181435685.mp4: 320x320 (no detections), 10.8ms\n",
            "video 1/1 (92/146) /content/KakaoTalk_20240627_181435685.mp4: 320x320 (no detections), 9.0ms\n",
            "video 1/1 (93/146) /content/KakaoTalk_20240627_181435685.mp4: 320x320 (no detections), 9.7ms\n",
            "video 1/1 (94/146) /content/KakaoTalk_20240627_181435685.mp4: 320x320 (no detections), 8.2ms\n",
            "video 1/1 (95/146) /content/KakaoTalk_20240627_181435685.mp4: 320x320 (no detections), 9.4ms\n",
            "video 1/1 (96/146) /content/KakaoTalk_20240627_181435685.mp4: 320x320 (no detections), 11.1ms\n",
            "video 1/1 (97/146) /content/KakaoTalk_20240627_181435685.mp4: 320x320 (no detections), 9.6ms\n",
            "video 1/1 (98/146) /content/KakaoTalk_20240627_181435685.mp4: 320x320 (no detections), 8.7ms\n",
            "video 1/1 (99/146) /content/KakaoTalk_20240627_181435685.mp4: 320x320 (no detections), 9.1ms\n",
            "video 1/1 (100/146) /content/KakaoTalk_20240627_181435685.mp4: 320x320 (no detections), 8.6ms\n",
            "video 1/1 (101/146) /content/KakaoTalk_20240627_181435685.mp4: 320x320 (no detections), 8.7ms\n",
            "video 1/1 (102/146) /content/KakaoTalk_20240627_181435685.mp4: 320x320 (no detections), 8.0ms\n",
            "video 1/1 (103/146) /content/KakaoTalk_20240627_181435685.mp4: 320x320 (no detections), 9.0ms\n",
            "video 1/1 (104/146) /content/KakaoTalk_20240627_181435685.mp4: 320x320 (no detections), 8.1ms\n",
            "video 1/1 (105/146) /content/KakaoTalk_20240627_181435685.mp4: 320x320 (no detections), 7.8ms\n",
            "video 1/1 (106/146) /content/KakaoTalk_20240627_181435685.mp4: 320x320 (no detections), 8.2ms\n",
            "video 1/1 (107/146) /content/KakaoTalk_20240627_181435685.mp4: 320x320 1 red, 8.6ms\n",
            "video 1/1 (108/146) /content/KakaoTalk_20240627_181435685.mp4: 320x320 (no detections), 9.3ms\n",
            "video 1/1 (109/146) /content/KakaoTalk_20240627_181435685.mp4: 320x320 (no detections), 7.8ms\n",
            "video 1/1 (110/146) /content/KakaoTalk_20240627_181435685.mp4: 320x320 (no detections), 8.3ms\n",
            "video 1/1 (111/146) /content/KakaoTalk_20240627_181435685.mp4: 320x320 (no detections), 11.0ms\n",
            "video 1/1 (112/146) /content/KakaoTalk_20240627_181435685.mp4: 320x320 (no detections), 10.3ms\n",
            "video 1/1 (113/146) /content/KakaoTalk_20240627_181435685.mp4: 320x320 1 red, 8.2ms\n",
            "video 1/1 (114/146) /content/KakaoTalk_20240627_181435685.mp4: 320x320 1 red, 9.4ms\n",
            "video 1/1 (115/146) /content/KakaoTalk_20240627_181435685.mp4: 320x320 (no detections), 8.7ms\n",
            "video 1/1 (116/146) /content/KakaoTalk_20240627_181435685.mp4: 320x320 (no detections), 8.8ms\n",
            "video 1/1 (117/146) /content/KakaoTalk_20240627_181435685.mp4: 320x320 (no detections), 8.0ms\n",
            "video 1/1 (118/146) /content/KakaoTalk_20240627_181435685.mp4: 320x320 (no detections), 8.0ms\n",
            "video 1/1 (119/146) /content/KakaoTalk_20240627_181435685.mp4: 320x320 (no detections), 8.8ms\n",
            "video 1/1 (120/146) /content/KakaoTalk_20240627_181435685.mp4: 320x320 (no detections), 8.8ms\n",
            "video 1/1 (121/146) /content/KakaoTalk_20240627_181435685.mp4: 320x320 (no detections), 8.1ms\n",
            "video 1/1 (122/146) /content/KakaoTalk_20240627_181435685.mp4: 320x320 (no detections), 8.3ms\n",
            "video 1/1 (123/146) /content/KakaoTalk_20240627_181435685.mp4: 320x320 (no detections), 7.9ms\n",
            "video 1/1 (124/146) /content/KakaoTalk_20240627_181435685.mp4: 320x320 1 red, 9.2ms\n",
            "video 1/1 (125/146) /content/KakaoTalk_20240627_181435685.mp4: 320x320 (no detections), 8.2ms\n",
            "video 1/1 (126/146) /content/KakaoTalk_20240627_181435685.mp4: 320x320 (no detections), 9.4ms\n",
            "video 1/1 (127/146) /content/KakaoTalk_20240627_181435685.mp4: 320x320 (no detections), 8.7ms\n",
            "video 1/1 (128/146) /content/KakaoTalk_20240627_181435685.mp4: 320x320 (no detections), 8.1ms\n",
            "video 1/1 (129/146) /content/KakaoTalk_20240627_181435685.mp4: 320x320 (no detections), 8.1ms\n",
            "video 1/1 (130/146) /content/KakaoTalk_20240627_181435685.mp4: 320x320 1 red, 7.7ms\n",
            "video 1/1 (131/146) /content/KakaoTalk_20240627_181435685.mp4: 320x320 (no detections), 9.2ms\n",
            "video 1/1 (132/146) /content/KakaoTalk_20240627_181435685.mp4: 320x320 (no detections), 8.0ms\n",
            "video 1/1 (133/146) /content/KakaoTalk_20240627_181435685.mp4: 320x320 1 red, 7.8ms\n",
            "video 1/1 (134/146) /content/KakaoTalk_20240627_181435685.mp4: 320x320 1 red, 8.2ms\n",
            "video 1/1 (135/146) /content/KakaoTalk_20240627_181435685.mp4: 320x320 1 red, 9.1ms\n",
            "video 1/1 (136/146) /content/KakaoTalk_20240627_181435685.mp4: 320x320 1 red, 11.6ms\n",
            "video 1/1 (137/146) /content/KakaoTalk_20240627_181435685.mp4: 320x320 (no detections), 7.5ms\n",
            "video 1/1 (138/146) /content/KakaoTalk_20240627_181435685.mp4: 320x320 1 red, 7.6ms\n",
            "video 1/1 (139/146) /content/KakaoTalk_20240627_181435685.mp4: 320x320 1 red, 8.9ms\n",
            "video 1/1 (140/146) /content/KakaoTalk_20240627_181435685.mp4: 320x320 1 red, 12.6ms\n",
            "video 1/1 (141/146) /content/KakaoTalk_20240627_181435685.mp4: 320x320 1 red, 7.6ms\n",
            "video 1/1 (142/146) /content/KakaoTalk_20240627_181435685.mp4: 320x320 (no detections), 7.6ms\n",
            "video 1/1 (143/146) /content/KakaoTalk_20240627_181435685.mp4: 320x320 1 red, 6.6ms\n",
            "video 1/1 (144/146) /content/KakaoTalk_20240627_181435685.mp4: 320x320 (no detections), 5.4ms\n",
            "video 1/1 (145/146) /content/KakaoTalk_20240627_181435685.mp4: 320x320 1 red, 5.4ms\n",
            "video 1/1 (146/146) /content/KakaoTalk_20240627_181435685.mp4: 320x320 1 red, 5.9ms\n",
            "Speed: 0.3ms pre-process, 8.8ms inference, 4.1ms NMS per image at shape (1, 3, 320, 320)\n",
            "Results saved to \u001b[1mruns/detect/exp6\u001b[0m\n"
          ]
        }
      ]
    },
    {
      "cell_type": "code",
      "source": [],
      "metadata": {
        "id": "u-af6MjK_AzJ"
      },
      "execution_count": null,
      "outputs": []
    }
  ]
}